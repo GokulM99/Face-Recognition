{
 "cells": [
  {
   "cell_type": "markdown",
   "id": "d2c45913",
   "metadata": {},
   "source": [
    "## specifying the folder where images are present"
   ]
  },
  {
   "cell_type": "code",
   "execution_count": 1,
   "id": "8323cbe5",
   "metadata": {},
   "outputs": [],
   "source": [
    "TrainingImagePath = \"C:/Users/Admin/Desktop/40 projects/face recognition/train\""
   ]
  },
  {
   "cell_type": "code",
   "execution_count": 2,
   "id": "da596b09",
   "metadata": {},
   "outputs": [],
   "source": [
    "validationImagePath = \"C:/Users/Admin/Desktop/40 projects/face recognition/validation\""
   ]
  },
  {
   "cell_type": "code",
   "execution_count": 3,
   "id": "0b3a86e5",
   "metadata": {},
   "outputs": [],
   "source": [
    "from keras.preprocessing.image import ImageDataGenerator"
   ]
  },
  {
   "cell_type": "code",
   "execution_count": 4,
   "id": "2c1a367d",
   "metadata": {},
   "outputs": [],
   "source": [
    "#base model\n",
    "\n",
    "train_datagen = ImageDataGenerator(rescale = 1./225)\n",
    "\n",
    "test_datagen = ImageDataGenerator(rescale = 1./225)"
   ]
  },
  {
   "cell_type": "code",
   "execution_count": 5,
   "id": "dfa42c58",
   "metadata": {},
   "outputs": [
    {
     "name": "stdout",
     "output_type": "stream",
     "text": [
      "Found 200 images belonging to 25 classes.\n"
     ]
    }
   ],
   "source": [
    "#Generating the training data\n",
    "\n",
    "training_set = train_datagen.flow_from_directory(TrainingImagePath,\n",
    "                                                target_size = (64,64),\n",
    "                                                batch_size = 20,\n",
    "                                                class_mode = 'categorical')"
   ]
  },
  {
   "cell_type": "markdown",
   "id": "2c15810a",
   "metadata": {},
   "source": [
    "# Validation set"
   ]
  },
  {
   "cell_type": "code",
   "execution_count": 6,
   "id": "3cc075fc",
   "metadata": {},
   "outputs": [
    {
     "name": "stdout",
     "output_type": "stream",
     "text": [
      "Found 50 images belonging to 25 classes.\n"
     ]
    }
   ],
   "source": [
    "#Generating the validation data\n",
    "\n",
    "validation_set = test_datagen.flow_from_directory(validationImagePath,\n",
    "                                                target_size = (64,64),\n",
    "                                                batch_size = 20,\n",
    "                                                class_mode = 'categorical')"
   ]
  },
  {
   "cell_type": "code",
   "execution_count": 7,
   "id": "ece0fe30",
   "metadata": {},
   "outputs": [],
   "source": [
    "# Libraries and model type\n",
    "\n",
    "# Create CNN Deep learning model\n",
    "\n",
    "from keras.models import Sequential\n",
    "from keras.layers import Convolution2D\n",
    "from keras.layers import MaxPool2D\n",
    "from keras.layers import Flatten\n",
    "from keras.layers import Dense"
   ]
  },
  {
   "cell_type": "code",
   "execution_count": 8,
   "id": "2fff8cc7",
   "metadata": {},
   "outputs": [],
   "source": [
    "# Initializing the Convolutional Neural Network\n",
    "\n",
    "classifier = Sequential()"
   ]
  },
  {
   "cell_type": "markdown",
   "id": "4cfe1d78",
   "metadata": {},
   "source": [
    "# MODEL"
   ]
  },
  {
   "cell_type": "code",
   "execution_count": 10,
   "id": "32963cf9",
   "metadata": {},
   "outputs": [],
   "source": [
    "# STEP 1 Convolution\n",
    "# Adding th e first layer of CNN\n",
    "# We are using the format (64,64,3) because we are using Tensorflow backend\n",
    "# It means 3 matrix of size (64x64) pixels representing Red, Green and Blue components of pixels\n",
    "\n",
    "classifier.add(Convolution2D(32, kernel_size=(3,3),\n",
    "                            input_shape=(64,64,3), activation ='relu'))"
   ]
  },
  {
   "cell_type": "code",
   "execution_count": 14,
   "id": "26797a27",
   "metadata": {},
   "outputs": [],
   "source": [
    "#STEP 2- Max Pooling\n",
    "classifier.add(MaxPool2D(pool_size=(2,2)))\n",
    "\n",
    "# Additional layer of convolution for better accuracy\n",
    "classifier.add(Convolution2D(64, kernel_size=(3,3), activation='relu'))\n",
    "classifier.add(MaxPool2D(pool_size=(2,2)))"
   ]
  },
  {
   "cell_type": "code",
   "execution_count": 15,
   "id": "abef6142",
   "metadata": {},
   "outputs": [],
   "source": [
    "#STEP 3- Flattening\n",
    "\n",
    "classifier.add(Flatten())"
   ]
  },
  {
   "cell_type": "code",
   "execution_count": 16,
   "id": "ab05d9c6",
   "metadata": {},
   "outputs": [],
   "source": [
    "#STEP 4 - Fully connected neural network\n",
    "\n",
    "classifier.add(Dense(64, activation='relu'))\n",
    "\n",
    "classifier.add(Dense(25, activation='softmax'))"
   ]
  },
  {
   "cell_type": "code",
   "execution_count": 17,
   "id": "1521fca7",
   "metadata": {},
   "outputs": [
    {
     "name": "stdout",
     "output_type": "stream",
     "text": [
      "Model: \"sequential\"\n",
      "_________________________________________________________________\n",
      " Layer (type)                Output Shape              Param #   \n",
      "=================================================================\n",
      " conv2d (Conv2D)             (None, 62, 62, 32)        896       \n",
      "                                                                 \n",
      " max_pooling2d (MaxPooling2D  (None, 31, 31, 32)       0         \n",
      " )                                                               \n",
      "                                                                 \n",
      " conv2d_1 (Conv2D)           (None, 29, 29, 64)        18496     \n",
      "                                                                 \n",
      " max_pooling2d_1 (MaxPooling  (None, 14, 14, 64)       0         \n",
      " 2D)                                                             \n",
      "                                                                 \n",
      " flatten (Flatten)           (None, 12544)             0         \n",
      "                                                                 \n",
      " dense (Dense)               (None, 64)                802880    \n",
      "                                                                 \n",
      " dense_1 (Dense)             (None, 25)                1625      \n",
      "                                                                 \n",
      "=================================================================\n",
      "Total params: 823,897\n",
      "Trainable params: 823,897\n",
      "Non-trainable params: 0\n",
      "_________________________________________________________________\n"
     ]
    }
   ],
   "source": [
    "classifier.summary()"
   ]
  },
  {
   "cell_type": "markdown",
   "id": "aa3726de",
   "metadata": {},
   "source": [
    "# Compiler"
   ]
  },
  {
   "cell_type": "code",
   "execution_count": 18,
   "id": "21641481",
   "metadata": {},
   "outputs": [],
   "source": [
    "# Compiling the CNN\n",
    "\n",
    "classifier.compile(loss='categorical_crossentropy',\n",
    "                  optimizer = 'adam', metrics =['accuracy'])"
   ]
  },
  {
   "cell_type": "markdown",
   "id": "e1a12966",
   "metadata": {},
   "source": [
    "# Execution of model"
   ]
  },
  {
   "cell_type": "code",
   "execution_count": 19,
   "id": "36a06941",
   "metadata": {},
   "outputs": [],
   "source": [
    "# Starting the model training\n",
    "import warnings\n",
    "warnings.filterwarnings('ignore')"
   ]
  },
  {
   "cell_type": "code",
   "execution_count": 20,
   "id": "48f4fa72",
   "metadata": {},
   "outputs": [
    {
     "name": "stdout",
     "output_type": "stream",
     "text": [
      "Epoch 1/20\n",
      "10/10 [==============================] - 31s 3s/step - loss: 3.2765 - accuracy: 0.0450 - val_loss: 3.1597 - val_accuracy: 0.2000\n",
      "Epoch 2/20\n",
      "10/10 [==============================] - 17s 2s/step - loss: 3.0013 - accuracy: 0.2100 - val_loss: 2.7852 - val_accuracy: 0.2200\n",
      "Epoch 3/20\n",
      "10/10 [==============================] - 17s 2s/step - loss: 2.3153 - accuracy: 0.3900 - val_loss: 2.0974 - val_accuracy: 0.4800\n",
      "Epoch 4/20\n",
      "10/10 [==============================] - 17s 2s/step - loss: 1.3630 - accuracy: 0.7200 - val_loss: 1.6442 - val_accuracy: 0.5000\n",
      "Epoch 5/20\n",
      "10/10 [==============================] - 18s 2s/step - loss: 0.6175 - accuracy: 0.8700 - val_loss: 1.1434 - val_accuracy: 0.7000\n",
      "Epoch 6/20\n",
      "10/10 [==============================] - 17s 2s/step - loss: 0.2700 - accuracy: 0.9500 - val_loss: 1.3341 - val_accuracy: 0.6600\n",
      "Epoch 7/20\n",
      "10/10 [==============================] - 17s 2s/step - loss: 0.1390 - accuracy: 0.9800 - val_loss: 1.2178 - val_accuracy: 0.7200\n",
      "Epoch 8/20\n",
      "10/10 [==============================] - 18s 2s/step - loss: 0.0842 - accuracy: 0.9850 - val_loss: 1.5470 - val_accuracy: 0.6200\n",
      "Epoch 9/20\n",
      "10/10 [==============================] - 16s 2s/step - loss: 0.0525 - accuracy: 0.9850 - val_loss: 1.2081 - val_accuracy: 0.7400\n",
      "Epoch 10/20\n",
      "10/10 [==============================] - 17s 2s/step - loss: 0.0358 - accuracy: 0.9950 - val_loss: 1.1767 - val_accuracy: 0.7600\n",
      "Epoch 11/20\n",
      "10/10 [==============================] - 17s 2s/step - loss: 0.0309 - accuracy: 0.9950 - val_loss: 1.3451 - val_accuracy: 0.7000\n",
      "Epoch 12/20\n",
      "10/10 [==============================] - 17s 2s/step - loss: 0.0116 - accuracy: 1.0000 - val_loss: 1.2324 - val_accuracy: 0.8000\n",
      "Epoch 13/20\n",
      "10/10 [==============================] - 18s 2s/step - loss: 0.0061 - accuracy: 1.0000 - val_loss: 1.2038 - val_accuracy: 0.7800\n",
      "Epoch 14/20\n",
      "10/10 [==============================] - 16s 2s/step - loss: 0.0035 - accuracy: 1.0000 - val_loss: 1.2315 - val_accuracy: 0.7800\n",
      "Epoch 15/20\n",
      "10/10 [==============================] - 17s 2s/step - loss: 0.0024 - accuracy: 1.0000 - val_loss: 1.2549 - val_accuracy: 0.7800\n",
      "Epoch 16/20\n",
      "10/10 [==============================] - 17s 2s/step - loss: 0.0020 - accuracy: 1.0000 - val_loss: 1.2506 - val_accuracy: 0.7800\n",
      "Epoch 17/20\n",
      "10/10 [==============================] - 16s 2s/step - loss: 0.0017 - accuracy: 1.0000 - val_loss: 1.2316 - val_accuracy: 0.7800\n",
      "Epoch 18/20\n",
      "10/10 [==============================] - 16s 2s/step - loss: 0.0015 - accuracy: 1.0000 - val_loss: 1.2397 - val_accuracy: 0.7800\n",
      "Epoch 19/20\n",
      "10/10 [==============================] - 17s 2s/step - loss: 0.0014 - accuracy: 1.0000 - val_loss: 1.2489 - val_accuracy: 0.7800\n",
      "Epoch 20/20\n",
      "10/10 [==============================] - 17s 2s/step - loss: 0.0013 - accuracy: 1.0000 - val_loss: 1.2585 - val_accuracy: 0.8000\n"
     ]
    }
   ],
   "source": [
    "history = classifier.fit_generator(training_set, epochs =20,\n",
    "                                  validation_data=validation_set)"
   ]
  },
  {
   "cell_type": "markdown",
   "id": "a667778a",
   "metadata": {},
   "source": [
    "## Accuracy base model"
   ]
  },
  {
   "cell_type": "code",
   "execution_count": 28,
   "id": "7002cc49",
   "metadata": {},
   "outputs": [
    {
     "data": {
      "text/plain": [
       "<Figure size 432x288 with 0 Axes>"
      ]
     },
     "execution_count": 28,
     "metadata": {},
     "output_type": "execute_result"
    },
    {
     "data": {
      "image/png": "[encoded data removed]",
      "text/plain": [
       "<Figure size 432x288 with 1 Axes>"
      ]
     },
     "metadata": {
      "needs_background": "light"
     },
     "output_type": "display_data"
    },
    {
     "data": {
      "text/plain": [
       "<Figure size 432x288 with 0 Axes>"
      ]
     },
     "metadata": {},
     "output_type": "display_data"
    }
   ],
   "source": [
    "#Displaying curves of loss and accuracy during training\n",
    "import matplotlib.pyplot as plt\n",
    "acc = history.history['accuracy']\n",
    "val_acc = history.history['val_accuracy']\n",
    "loss = history.history['loss']\n",
    "val_loss = history.history['val_loss']\n",
    "epochs = range(1, len(acc) + 1)\n",
    "\n",
    "plt.plot(epochs, acc, 'bo', label='Training acc')\n",
    "plt.plot(epochs, val_acc, 'r', label='Validation acc')\n",
    "plt.title('Training and validation accuracy')\n",
    "plt.legend()\n",
    "plt.figure()"
   ]
  },
  {
   "cell_type": "markdown",
   "id": "e204e892",
   "metadata": {},
   "source": [
    "# Loss base model"
   ]
  },
  {
   "cell_type": "code",
   "execution_count": 29,
   "id": "11e1d8e3",
   "metadata": {},
   "outputs": [
    {
     "data": {
      "text/plain": [
       "<Figure size 432x288 with 0 Axes>"
      ]
     },
     "execution_count": 29,
     "metadata": {},
     "output_type": "execute_result"
    },
    {
     "data": {
      "image/png": "[encoded data removed]",
      "text/plain": [
       "<Figure size 432x288 with 1 Axes>"
      ]
     },
     "metadata": {
      "needs_background": "light"
     },
     "output_type": "display_data"
    },
    {
     "data": {
      "text/plain": [
       "<Figure size 432x288 with 0 Axes>"
      ]
     },
     "metadata": {},
     "output_type": "display_data"
    }
   ],
   "source": [
    "plt.plot(epochs, loss, 'bo', label='Training loss')\n",
    "plt.plot(epochs, val_loss, 'r', label='Validation loss')\n",
    "plt.title('Training and validation loss')\n",
    "plt.legend()\n",
    "plt.figure()"
   ]
  },
  {
   "cell_type": "code",
   "execution_count": 30,
   "id": "e42e2f8e",
   "metadata": {},
   "outputs": [],
   "source": [
    "# Lets improve"
   ]
  },
  {
   "cell_type": "code",
   "execution_count": 31,
   "id": "938e7633",
   "metadata": {},
   "outputs": [],
   "source": [
    "# Model 2"
   ]
  },
  {
   "cell_type": "code",
   "execution_count": 33,
   "id": "b327fbe6",
   "metadata": {},
   "outputs": [],
   "source": [
    "# Adding parameters in the ImageDatagenerator\n",
    "\n",
    "train_datagen = ImageDataGenerator(rescale=1./225, shear_range=0.5,\n",
    "                                  zoom_range=0.5, width_shift_range=0.2,\n",
    "                                  height_shift_range=0.2)"
   ]
  },
  {
   "cell_type": "code",
   "execution_count": 35,
   "id": "c95e3a4b",
   "metadata": {},
   "outputs": [],
   "source": [
    "# No transformations are done on the testing images\n",
    "\n",
    "test_datgen = ImageDataGenerator(rescale=1./225)"
   ]
  },
  {
   "cell_type": "code",
   "execution_count": 37,
   "id": "e4eec759",
   "metadata": {},
   "outputs": [
    {
     "name": "stdout",
     "output_type": "stream",
     "text": [
      "Found 200 images belonging to 25 classes.\n"
     ]
    }
   ],
   "source": [
    "# Generating the training data\n",
    "\n",
    "training_set = train_datagen.flow_from_directory(TrainingImagePath,\n",
    "                                                target_size=(64,64),\n",
    "                                                batch_size=20,\n",
    "                                                class_mode='categorical')"
   ]
  },
  {
   "cell_type": "code",
   "execution_count": 38,
   "id": "31d3f981",
   "metadata": {},
   "outputs": [],
   "source": [
    "# Generating the validation data"
   ]
  },
  {
   "cell_type": "code",
   "execution_count": 39,
   "id": "2ac9a009",
   "metadata": {},
   "outputs": [
    {
     "name": "stdout",
     "output_type": "stream",
     "text": [
      "Found 50 images belonging to 25 classes.\n"
     ]
    }
   ],
   "source": [
    "validation_set = test_datagen.flow_from_directory(validationImagePath,\n",
    "                                                target_size=(64,64),\n",
    "                                                batch_size=20,\n",
    "                                                class_mode='categorical')"
   ]
  },
  {
   "cell_type": "code",
   "execution_count": 40,
   "id": "dd2270d6",
   "metadata": {},
   "outputs": [],
   "source": [
    "#Create Cnn deep learning model\n",
    "\n",
    "from keras.models import Sequential\n",
    "from keras.layers import Convolution2D\n",
    "from keras.layers import MaxPool2D\n",
    "from keras.layers import Flatten\n",
    "from keras.layers import Dense"
   ]
  },
  {
   "cell_type": "code",
   "execution_count": 41,
   "id": "b35b1bd3",
   "metadata": {},
   "outputs": [],
   "source": [
    "# Initializing the Convolutional Neural Network\n",
    "\n",
    "classifier = Sequential()"
   ]
  },
  {
   "cell_type": "code",
   "execution_count": 42,
   "id": "41ea7190",
   "metadata": {},
   "outputs": [],
   "source": [
    "# Convolution\n",
    "\n",
    "classifier.add(Convolution2D(32, kernel_size=(3,3),\n",
    "                            input_shape=(64,64,3), activation ='relu'))"
   ]
  },
  {
   "cell_type": "code",
   "execution_count": 43,
   "id": "4274ae60",
   "metadata": {},
   "outputs": [],
   "source": [
    "#Max Pooling\n",
    "\n",
    "classifier.add(MaxPool2D(pool_size=(2,2)))"
   ]
  },
  {
   "cell_type": "code",
   "execution_count": 44,
   "id": "09ee17bb",
   "metadata": {},
   "outputs": [],
   "source": [
    "# Additional layer of convolution for better accuracy"
   ]
  },
  {
   "cell_type": "code",
   "execution_count": 45,
   "id": "59700aaf",
   "metadata": {},
   "outputs": [],
   "source": [
    "classifier.add(Convolution2D(64, kernel_size=(3,3), activation='relu'))"
   ]
  },
  {
   "cell_type": "code",
   "execution_count": 46,
   "id": "6a26d79a",
   "metadata": {},
   "outputs": [],
   "source": [
    "classifier.add(MaxPool2D(pool_size=(2,2)))"
   ]
  },
  {
   "cell_type": "code",
   "execution_count": 47,
   "id": "63e421f6",
   "metadata": {},
   "outputs": [],
   "source": [
    "#Flattening"
   ]
  },
  {
   "cell_type": "code",
   "execution_count": 48,
   "id": "ee3eb2d6",
   "metadata": {},
   "outputs": [],
   "source": [
    "classifier.add(Flatten())"
   ]
  },
  {
   "cell_type": "code",
   "execution_count": 49,
   "id": "521c5572",
   "metadata": {},
   "outputs": [],
   "source": [
    "#Fully connected neural network"
   ]
  },
  {
   "cell_type": "code",
   "execution_count": 50,
   "id": "4b484240",
   "metadata": {},
   "outputs": [],
   "source": [
    "classifier.add(Dense(64, activation='relu'))#hidden layer"
   ]
  },
  {
   "cell_type": "code",
   "execution_count": 51,
   "id": "9c0df7bb",
   "metadata": {},
   "outputs": [],
   "source": [
    "classifier.add(Dense(25, activation='softmax'))#output layer"
   ]
  },
  {
   "cell_type": "code",
   "execution_count": 52,
   "id": "2a29ce4b",
   "metadata": {},
   "outputs": [
    {
     "name": "stdout",
     "output_type": "stream",
     "text": [
      "Model: \"sequential_1\"\n",
      "_________________________________________________________________\n",
      " Layer (type)                Output Shape              Param #   \n",
      "=================================================================\n",
      " conv2d_2 (Conv2D)           (None, 62, 62, 32)        896       \n",
      "                                                                 \n",
      " max_pooling2d_2 (MaxPooling  (None, 31, 31, 32)       0         \n",
      " 2D)                                                             \n",
      "                                                                 \n",
      " conv2d_3 (Conv2D)           (None, 29, 29, 64)        18496     \n",
      "                                                                 \n",
      " max_pooling2d_3 (MaxPooling  (None, 14, 14, 64)       0         \n",
      " 2D)                                                             \n",
      "                                                                 \n",
      " flatten_1 (Flatten)         (None, 12544)             0         \n",
      "                                                                 \n",
      " dense_2 (Dense)             (None, 64)                802880    \n",
      "                                                                 \n",
      " dense_3 (Dense)             (None, 25)                1625      \n",
      "                                                                 \n",
      "=================================================================\n",
      "Total params: 823,897\n",
      "Trainable params: 823,897\n",
      "Non-trainable params: 0\n",
      "_________________________________________________________________\n"
     ]
    }
   ],
   "source": [
    "classifier.summary()"
   ]
  },
  {
   "cell_type": "code",
   "execution_count": 53,
   "id": "10684d06",
   "metadata": {},
   "outputs": [],
   "source": [
    "#Compiler"
   ]
  },
  {
   "cell_type": "code",
   "execution_count": 54,
   "id": "cc589088",
   "metadata": {},
   "outputs": [],
   "source": [
    "classifier.compile(loss='categorical_crossentropy',\n",
    "                  optimizer='adam', metrics=['accuracy'])"
   ]
  },
  {
   "cell_type": "code",
   "execution_count": 55,
   "id": "74654438",
   "metadata": {},
   "outputs": [],
   "source": [
    "#Execute"
   ]
  },
  {
   "cell_type": "code",
   "execution_count": 57,
   "id": "76babdab",
   "metadata": {},
   "outputs": [
    {
     "name": "stdout",
     "output_type": "stream",
     "text": [
      "Epoch 1/100\n",
      "10/10 [==============================] - 21s 2s/step - loss: 3.3443 - accuracy: 0.0250 - val_loss: 3.2068 - val_accuracy: 0.0800\n",
      "Epoch 2/100\n",
      "10/10 [==============================] - 17s 2s/step - loss: 3.2096 - accuracy: 0.0550 - val_loss: 3.1621 - val_accuracy: 0.0400\n",
      "Epoch 3/100\n",
      "10/10 [==============================] - 17s 2s/step - loss: 3.1646 - accuracy: 0.0350 - val_loss: 3.0992 - val_accuracy: 0.0800\n",
      "Epoch 4/100\n",
      "10/10 [==============================] - 17s 2s/step - loss: 3.0761 - accuracy: 0.1100 - val_loss: 3.0562 - val_accuracy: 0.1000\n",
      "Epoch 5/100\n",
      "10/10 [==============================] - 17s 2s/step - loss: 3.0152 - accuracy: 0.1050 - val_loss: 2.9093 - val_accuracy: 0.0800\n",
      "Epoch 6/100\n",
      "10/10 [==============================] - 17s 2s/step - loss: 2.9265 - accuracy: 0.1200 - val_loss: 2.8374 - val_accuracy: 0.2000\n",
      "Epoch 7/100\n",
      "10/10 [==============================] - 18s 2s/step - loss: 2.8360 - accuracy: 0.1600 - val_loss: 2.7473 - val_accuracy: 0.1400\n",
      "Epoch 8/100\n",
      "10/10 [==============================] - 16s 2s/step - loss: 2.7727 - accuracy: 0.1700 - val_loss: 2.6052 - val_accuracy: 0.2400\n",
      "Epoch 9/100\n",
      "10/10 [==============================] - 16s 2s/step - loss: 2.6795 - accuracy: 0.1950 - val_loss: 2.6265 - val_accuracy: 0.2200\n",
      "Epoch 10/100\n",
      "10/10 [==============================] - 16s 2s/step - loss: 2.5461 - accuracy: 0.2300 - val_loss: 2.4089 - val_accuracy: 0.2200\n",
      "Epoch 11/100\n",
      "10/10 [==============================] - 17s 2s/step - loss: 2.4760 - accuracy: 0.2200 - val_loss: 2.2606 - val_accuracy: 0.2800\n",
      "Epoch 12/100\n",
      "10/10 [==============================] - 16s 2s/step - loss: 2.3374 - accuracy: 0.2750 - val_loss: 2.1719 - val_accuracy: 0.2800\n",
      "Epoch 13/100\n",
      "10/10 [==============================] - 16s 2s/step - loss: 2.2044 - accuracy: 0.3150 - val_loss: 2.0139 - val_accuracy: 0.3200\n",
      "Epoch 14/100\n",
      "10/10 [==============================] - 17s 2s/step - loss: 2.1750 - accuracy: 0.3600 - val_loss: 1.8994 - val_accuracy: 0.3800\n",
      "Epoch 15/100\n",
      "10/10 [==============================] - 17s 2s/step - loss: 2.1107 - accuracy: 0.3300 - val_loss: 1.7825 - val_accuracy: 0.5200\n",
      "Epoch 16/100\n",
      "10/10 [==============================] - 16s 2s/step - loss: 1.9229 - accuracy: 0.3900 - val_loss: 1.7197 - val_accuracy: 0.4600\n",
      "Epoch 17/100\n",
      "10/10 [==============================] - 16s 2s/step - loss: 1.9843 - accuracy: 0.3800 - val_loss: 1.9018 - val_accuracy: 0.3800\n",
      "Epoch 18/100\n",
      "10/10 [==============================] - 16s 2s/step - loss: 1.8586 - accuracy: 0.4200 - val_loss: 1.7984 - val_accuracy: 0.4000\n",
      "Epoch 19/100\n",
      "10/10 [==============================] - 17s 2s/step - loss: 1.8453 - accuracy: 0.4150 - val_loss: 1.6890 - val_accuracy: 0.4600\n",
      "Epoch 20/100\n",
      "10/10 [==============================] - 16s 2s/step - loss: 1.6671 - accuracy: 0.5050 - val_loss: 1.5262 - val_accuracy: 0.5800\n",
      "Epoch 21/100\n",
      "10/10 [==============================] - 17s 2s/step - loss: 1.6910 - accuracy: 0.4650 - val_loss: 1.5127 - val_accuracy: 0.5600\n",
      "Epoch 22/100\n",
      "10/10 [==============================] - 16s 2s/step - loss: 1.6447 - accuracy: 0.5500 - val_loss: 1.4901 - val_accuracy: 0.5600\n",
      "Epoch 23/100\n",
      "10/10 [==============================] - 17s 2s/step - loss: 1.5212 - accuracy: 0.5450 - val_loss: 1.5672 - val_accuracy: 0.5400\n",
      "Epoch 24/100\n",
      "10/10 [==============================] - 16s 2s/step - loss: 1.6835 - accuracy: 0.4900 - val_loss: 1.5435 - val_accuracy: 0.5800\n",
      "Epoch 25/100\n",
      "10/10 [==============================] - 16s 2s/step - loss: 1.5736 - accuracy: 0.5300 - val_loss: 1.3416 - val_accuracy: 0.6000\n",
      "Epoch 26/100\n",
      "10/10 [==============================] - 16s 2s/step - loss: 1.5635 - accuracy: 0.5550 - val_loss: 1.5072 - val_accuracy: 0.6000\n",
      "Epoch 27/100\n",
      "10/10 [==============================] - 17s 2s/step - loss: 1.4016 - accuracy: 0.5750 - val_loss: 1.2251 - val_accuracy: 0.6400\n",
      "Epoch 28/100\n",
      "10/10 [==============================] - 17s 2s/step - loss: 1.4952 - accuracy: 0.5400 - val_loss: 1.1442 - val_accuracy: 0.6600\n",
      "Epoch 29/100\n",
      "10/10 [==============================] - 17s 2s/step - loss: 1.4098 - accuracy: 0.5650 - val_loss: 1.2777 - val_accuracy: 0.6400\n",
      "Epoch 30/100\n",
      "10/10 [==============================] - 16s 2s/step - loss: 1.3596 - accuracy: 0.6100 - val_loss: 1.4977 - val_accuracy: 0.5200\n",
      "Epoch 31/100\n",
      "10/10 [==============================] - 18s 2s/step - loss: 1.3485 - accuracy: 0.6350 - val_loss: 1.1976 - val_accuracy: 0.6800\n",
      "Epoch 32/100\n",
      "10/10 [==============================] - 17s 2s/step - loss: 1.2537 - accuracy: 0.6150 - val_loss: 1.5931 - val_accuracy: 0.5600\n",
      "Epoch 33/100\n",
      "10/10 [==============================] - 17s 2s/step - loss: 1.4056 - accuracy: 0.5950 - val_loss: 1.2117 - val_accuracy: 0.6000\n",
      "Epoch 34/100\n",
      "10/10 [==============================] - 17s 2s/step - loss: 1.3246 - accuracy: 0.5750 - val_loss: 1.1136 - val_accuracy: 0.6200\n",
      "Epoch 35/100\n",
      "10/10 [==============================] - 17s 2s/step - loss: 1.0876 - accuracy: 0.6800 - val_loss: 1.0736 - val_accuracy: 0.7000\n",
      "Epoch 36/100\n",
      "10/10 [==============================] - 17s 2s/step - loss: 1.2059 - accuracy: 0.6350 - val_loss: 1.0344 - val_accuracy: 0.6600\n",
      "Epoch 37/100\n",
      "10/10 [==============================] - 16s 2s/step - loss: 1.2427 - accuracy: 0.6500 - val_loss: 1.2312 - val_accuracy: 0.6400\n",
      "Epoch 38/100\n",
      "10/10 [==============================] - 17s 2s/step - loss: 1.2108 - accuracy: 0.6550 - val_loss: 1.0673 - val_accuracy: 0.6800\n",
      "Epoch 39/100\n",
      "10/10 [==============================] - 18s 2s/step - loss: 1.1767 - accuracy: 0.6400 - val_loss: 0.9951 - val_accuracy: 0.7200\n",
      "Epoch 40/100\n",
      "10/10 [==============================] - 17s 2s/step - loss: 1.2214 - accuracy: 0.6200 - val_loss: 0.9564 - val_accuracy: 0.7400\n",
      "Epoch 41/100\n",
      "10/10 [==============================] - 16s 2s/step - loss: 1.0804 - accuracy: 0.6950 - val_loss: 1.0093 - val_accuracy: 0.6600\n",
      "Epoch 42/100\n",
      "10/10 [==============================] - 17s 2s/step - loss: 0.9932 - accuracy: 0.7100 - val_loss: 0.8372 - val_accuracy: 0.8200\n",
      "Epoch 43/100\n",
      "10/10 [==============================] - 16s 2s/step - loss: 1.0610 - accuracy: 0.7000 - val_loss: 1.0583 - val_accuracy: 0.7000\n",
      "Epoch 44/100\n",
      "10/10 [==============================] - 17s 2s/step - loss: 0.9991 - accuracy: 0.6850 - val_loss: 0.8319 - val_accuracy: 0.7400\n",
      "Epoch 45/100\n",
      "10/10 [==============================] - 17s 2s/step - loss: 0.9308 - accuracy: 0.7200 - val_loss: 1.1133 - val_accuracy: 0.6600\n",
      "Epoch 46/100\n",
      "10/10 [==============================] - 18s 2s/step - loss: 0.8576 - accuracy: 0.7450 - val_loss: 0.8859 - val_accuracy: 0.7800\n",
      "Epoch 47/100\n",
      "10/10 [==============================] - 17s 2s/step - loss: 0.9569 - accuracy: 0.7100 - val_loss: 0.7465 - val_accuracy: 0.7600\n",
      "Epoch 48/100\n",
      "10/10 [==============================] - 16s 2s/step - loss: 0.9798 - accuracy: 0.6850 - val_loss: 0.9218 - val_accuracy: 0.7400\n",
      "Epoch 49/100\n",
      "10/10 [==============================] - 16s 2s/step - loss: 0.8869 - accuracy: 0.7150 - val_loss: 0.8407 - val_accuracy: 0.7600\n",
      "Epoch 50/100\n",
      "10/10 [==============================] - 17s 2s/step - loss: 0.8528 - accuracy: 0.7550 - val_loss: 0.9184 - val_accuracy: 0.7400\n",
      "Epoch 51/100\n",
      "10/10 [==============================] - 18s 2s/step - loss: 0.8266 - accuracy: 0.7350 - val_loss: 0.8731 - val_accuracy: 0.7200\n",
      "Epoch 52/100\n",
      "10/10 [==============================] - 23s 2s/step - loss: 0.7208 - accuracy: 0.7900 - val_loss: 1.0318 - val_accuracy: 0.7000\n",
      "Epoch 53/100\n",
      "10/10 [==============================] - 41s 4s/step - loss: 0.8418 - accuracy: 0.7450 - val_loss: 0.8805 - val_accuracy: 0.7200\n",
      "Epoch 54/100\n",
      "10/10 [==============================] - 28s 3s/step - loss: 0.7604 - accuracy: 0.7900 - val_loss: 0.8240 - val_accuracy: 0.8400\n",
      "Epoch 55/100\n",
      "10/10 [==============================] - 22s 2s/step - loss: 0.9940 - accuracy: 0.7100 - val_loss: 1.0702 - val_accuracy: 0.7000\n",
      "Epoch 56/100\n",
      "10/10 [==============================] - 20s 2s/step - loss: 0.9643 - accuracy: 0.7200 - val_loss: 1.0848 - val_accuracy: 0.6400\n",
      "Epoch 57/100\n",
      "10/10 [==============================] - 19s 2s/step - loss: 0.7558 - accuracy: 0.7750 - val_loss: 0.7462 - val_accuracy: 0.7600\n",
      "Epoch 58/100\n",
      "10/10 [==============================] - 17s 2s/step - loss: 0.8726 - accuracy: 0.7550 - val_loss: 1.0900 - val_accuracy: 0.7000\n",
      "Epoch 59/100\n",
      "10/10 [==============================] - 18s 2s/step - loss: 0.8047 - accuracy: 0.7400 - val_loss: 1.0287 - val_accuracy: 0.7600\n",
      "Epoch 60/100\n",
      "10/10 [==============================] - 17s 2s/step - loss: 0.9248 - accuracy: 0.7000 - val_loss: 0.9474 - val_accuracy: 0.7200\n",
      "Epoch 61/100\n",
      "10/10 [==============================] - 16s 2s/step - loss: 0.8136 - accuracy: 0.7800 - val_loss: 0.9128 - val_accuracy: 0.7200\n",
      "Epoch 62/100\n",
      "10/10 [==============================] - 26s 3s/step - loss: 0.8528 - accuracy: 0.7400 - val_loss: 0.8535 - val_accuracy: 0.7400\n",
      "Epoch 63/100\n",
      "10/10 [==============================] - 18s 2s/step - loss: 0.7187 - accuracy: 0.8050 - val_loss: 1.2760 - val_accuracy: 0.6600\n",
      "Epoch 64/100\n",
      "10/10 [==============================] - 18s 2s/step - loss: 0.7590 - accuracy: 0.7800 - val_loss: 0.8718 - val_accuracy: 0.7800\n",
      "Epoch 65/100\n",
      "10/10 [==============================] - 18s 2s/step - loss: 0.7622 - accuracy: 0.7850 - val_loss: 1.1722 - val_accuracy: 0.6600\n",
      "Epoch 66/100\n",
      "10/10 [==============================] - 17s 2s/step - loss: 0.8742 - accuracy: 0.7250 - val_loss: 0.7911 - val_accuracy: 0.8000\n",
      "Epoch 67/100\n",
      "10/10 [==============================] - 16s 2s/step - loss: 0.7614 - accuracy: 0.8000 - val_loss: 0.7646 - val_accuracy: 0.7400\n",
      "Epoch 68/100\n",
      "10/10 [==============================] - 17s 2s/step - loss: 0.7615 - accuracy: 0.8100 - val_loss: 0.8346 - val_accuracy: 0.7600\n",
      "Epoch 69/100\n",
      "10/10 [==============================] - 19s 2s/step - loss: 0.6873 - accuracy: 0.7700 - val_loss: 0.6720 - val_accuracy: 0.7800\n",
      "Epoch 70/100\n",
      "10/10 [==============================] - 18s 2s/step - loss: 0.6452 - accuracy: 0.8350 - val_loss: 0.9269 - val_accuracy: 0.7600\n",
      "Epoch 71/100\n",
      "10/10 [==============================] - 17s 2s/step - loss: 0.5552 - accuracy: 0.8400 - val_loss: 0.7483 - val_accuracy: 0.7800\n",
      "Epoch 72/100\n",
      "10/10 [==============================] - 19s 2s/step - loss: 0.7229 - accuracy: 0.7950 - val_loss: 0.7725 - val_accuracy: 0.7600\n",
      "Epoch 73/100\n",
      "10/10 [==============================] - 17s 2s/step - loss: 0.6916 - accuracy: 0.7950 - val_loss: 0.7323 - val_accuracy: 0.8000\n",
      "Epoch 74/100\n",
      "10/10 [==============================] - 17s 2s/step - loss: 0.6758 - accuracy: 0.8150 - val_loss: 0.9416 - val_accuracy: 0.7600\n",
      "Epoch 75/100\n",
      "10/10 [==============================] - 16s 2s/step - loss: 0.5118 - accuracy: 0.8600 - val_loss: 0.8572 - val_accuracy: 0.7800\n",
      "Epoch 76/100\n",
      "10/10 [==============================] - 16s 2s/step - loss: 0.7290 - accuracy: 0.7750 - val_loss: 0.9215 - val_accuracy: 0.7400\n",
      "Epoch 77/100\n",
      "10/10 [==============================] - 16s 2s/step - loss: 0.4980 - accuracy: 0.8850 - val_loss: 0.9645 - val_accuracy: 0.7200\n",
      "Epoch 78/100\n",
      "10/10 [==============================] - 18s 2s/step - loss: 0.5854 - accuracy: 0.8300 - val_loss: 0.9291 - val_accuracy: 0.7600\n",
      "Epoch 79/100\n",
      "10/10 [==============================] - 19s 2s/step - loss: 0.6603 - accuracy: 0.8100 - val_loss: 0.9231 - val_accuracy: 0.7200\n",
      "Epoch 80/100\n",
      "10/10 [==============================] - 17s 2s/step - loss: 0.8186 - accuracy: 0.7200 - val_loss: 1.3548 - val_accuracy: 0.6200\n",
      "Epoch 81/100\n",
      "10/10 [==============================] - 18s 2s/step - loss: 0.7629 - accuracy: 0.7950 - val_loss: 1.0372 - val_accuracy: 0.7400\n",
      "Epoch 82/100\n",
      "10/10 [==============================] - 16s 2s/step - loss: 0.7393 - accuracy: 0.8000 - val_loss: 0.9602 - val_accuracy: 0.7000\n",
      "Epoch 83/100\n",
      "10/10 [==============================] - 18s 2s/step - loss: 0.6426 - accuracy: 0.8150 - val_loss: 0.6869 - val_accuracy: 0.8400\n",
      "Epoch 84/100\n",
      "10/10 [==============================] - 18s 2s/step - loss: 0.7647 - accuracy: 0.8300 - val_loss: 0.6927 - val_accuracy: 0.8000\n",
      "Epoch 85/100\n",
      "10/10 [==============================] - 17s 2s/step - loss: 0.5834 - accuracy: 0.8000 - val_loss: 0.6665 - val_accuracy: 0.8200\n",
      "Epoch 86/100\n",
      "10/10 [==============================] - 17s 2s/step - loss: 0.6985 - accuracy: 0.8000 - val_loss: 0.7875 - val_accuracy: 0.7800\n",
      "Epoch 87/100\n",
      "10/10 [==============================] - 16s 2s/step - loss: 0.5688 - accuracy: 0.8450 - val_loss: 0.7776 - val_accuracy: 0.8200\n",
      "Epoch 88/100\n",
      "10/10 [==============================] - 16s 2s/step - loss: 0.4597 - accuracy: 0.8700 - val_loss: 0.8695 - val_accuracy: 0.7200\n",
      "Epoch 89/100\n",
      "10/10 [==============================] - 17s 2s/step - loss: 0.4746 - accuracy: 0.8750 - val_loss: 0.8096 - val_accuracy: 0.7800\n",
      "Epoch 90/100\n",
      "10/10 [==============================] - 16s 2s/step - loss: 0.5721 - accuracy: 0.8250 - val_loss: 0.8040 - val_accuracy: 0.7400\n",
      "Epoch 91/100\n",
      "10/10 [==============================] - 16s 2s/step - loss: 0.5673 - accuracy: 0.8250 - val_loss: 0.6876 - val_accuracy: 0.7600\n",
      "Epoch 92/100\n",
      "10/10 [==============================] - 16s 2s/step - loss: 0.5668 - accuracy: 0.8150 - val_loss: 0.7887 - val_accuracy: 0.7800\n",
      "Epoch 93/100\n",
      "10/10 [==============================] - 17s 2s/step - loss: 0.6218 - accuracy: 0.7950 - val_loss: 0.8585 - val_accuracy: 0.7400\n",
      "Epoch 94/100\n",
      "10/10 [==============================] - 16s 2s/step - loss: 0.5922 - accuracy: 0.8050 - val_loss: 0.6232 - val_accuracy: 0.8600\n",
      "Epoch 95/100\n",
      "10/10 [==============================] - 16s 2s/step - loss: 0.5694 - accuracy: 0.8750 - val_loss: 0.9299 - val_accuracy: 0.7600\n",
      "Epoch 96/100\n",
      "10/10 [==============================] - 18s 2s/step - loss: 0.5911 - accuracy: 0.8200 - val_loss: 0.6335 - val_accuracy: 0.8200\n",
      "Epoch 97/100\n",
      "10/10 [==============================] - 24s 2s/step - loss: 0.6731 - accuracy: 0.8100 - val_loss: 0.8284 - val_accuracy: 0.7400\n",
      "Epoch 98/100\n",
      "10/10 [==============================] - 18s 2s/step - loss: 0.3884 - accuracy: 0.9100 - val_loss: 0.5343 - val_accuracy: 0.8400\n",
      "Epoch 99/100\n",
      "10/10 [==============================] - 16s 2s/step - loss: 0.5695 - accuracy: 0.8400 - val_loss: 0.8826 - val_accuracy: 0.7600\n",
      "Epoch 100/100\n",
      "10/10 [==============================] - 17s 2s/step - loss: 0.3968 - accuracy: 0.8750 - val_loss: 0.7302 - val_accuracy: 0.7600\n"
     ]
    }
   ],
   "source": [
    "#Starting the model training\n",
    "history = classifier.fit_generator(training_set, epochs =100,\n",
    "                                  validation_data=validation_set)"
   ]
  },
  {
   "cell_type": "code",
   "execution_count": 58,
   "id": "5c14f6a1",
   "metadata": {},
   "outputs": [],
   "source": [
    "#Displaying curves of loss and accuracy during training"
   ]
  },
  {
   "cell_type": "code",
   "execution_count": 59,
   "id": "b208c4af",
   "metadata": {},
   "outputs": [],
   "source": [
    "import matplotlib.pyplot as plt"
   ]
  },
  {
   "cell_type": "code",
   "execution_count": 64,
   "id": "18374cbe",
   "metadata": {},
   "outputs": [],
   "source": [
    "acc = history.history['accuracy']\n",
    "val_acc = history.history['val_accuracy']\n",
    "loss = history.history['loss']\n",
    "val_loss = history.history['val_loss']\n",
    "epochs = range(1, len(acc) + 1)"
   ]
  },
  {
   "cell_type": "code",
   "execution_count": 65,
   "id": "9e1bc8ea",
   "metadata": {},
   "outputs": [
    {
     "data": {
      "text/plain": [
       "<Figure size 432x288 with 0 Axes>"
      ]
     },
     "execution_count": 65,
     "metadata": {},
     "output_type": "execute_result"
    },
    {
     "data": {
      "image/png": "[encoded data removed]",
      "text/plain": [
       "<Figure size 432x288 with 1 Axes>"
      ]
     },
     "metadata": {
      "needs_background": "light"
     },
     "output_type": "display_data"
    },
    {
     "data": {
      "text/plain": [
       "<Figure size 432x288 with 0 Axes>"
      ]
     },
     "metadata": {},
     "output_type": "display_data"
    }
   ],
   "source": [
    "plt.plot(epochs, acc, 'bo', label='Training acc')\n",
    "plt.plot(epochs, val_acc, 'g', label='Validation acc')\n",
    "plt.title('Training and validation accuracy')\n",
    "plt.legend()\n",
    "plt.figure()"
   ]
  },
  {
   "cell_type": "code",
   "execution_count": 66,
   "id": "b9a1412f",
   "metadata": {},
   "outputs": [
    {
     "data": {
      "text/plain": [
       "<Figure size 432x288 with 0 Axes>"
      ]
     },
     "execution_count": 66,
     "metadata": {},
     "output_type": "execute_result"
    },
    {
     "data": {
      "image/png": "[encoded data removed]",
      "text/plain": [
       "<Figure size 432x288 with 1 Axes>"
      ]
     },
     "metadata": {
      "needs_background": "light"
     },
     "output_type": "display_data"
    },
    {
     "data": {
      "text/plain": [
       "<Figure size 432x288 with 0 Axes>"
      ]
     },
     "metadata": {},
     "output_type": "display_data"
    }
   ],
   "source": [
    "plt.plot(epochs, loss, 'bo', label='Training loss')\n",
    "plt.plot(epochs, val_loss, 'g', label='Validation loss')\n",
    "plt.title('Training and validation loss')\n",
    "plt.legend()\n",
    "plt.figure()"
   ]
  },
  {
   "cell_type": "code",
   "execution_count": null,
   "id": "3ec302f7",
   "metadata": {},
   "outputs": [],
   "source": [
    " "
   ]
  },
  {
   "cell_type": "code",
   "execution_count": null,
   "id": "16f07878",
   "metadata": {},
   "outputs": [],
   "source": []
  },
  {
   "cell_type": "code",
   "execution_count": null,
   "id": "255bfdc3",
   "metadata": {},
   "outputs": [],
   "source": [
    " "
   ]
  }
 ],
 "metadata": {
  "kernelspec": {
   "display_name": "Python 3 (ipykernel)",
   "language": "python",
   "name": "python3"
  },
  "language_info": {
   "codemirror_mode": {
    "name": "ipython",
    "version": 3
   },
   "file_extension": ".py",
   "mimetype": "text/x-python",
   "name": "python",
   "nbconvert_exporter": "python",
   "pygments_lexer": "ipython3",
   "version": "3.10.9"
  }
 },
 "nbformat": 4,
 "nbformat_minor": 5
}
